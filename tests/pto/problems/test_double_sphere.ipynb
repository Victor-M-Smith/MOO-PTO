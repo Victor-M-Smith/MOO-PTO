{
 "cells": [
  {
   "cell_type": "markdown",
   "id": "45ae1eee",
   "metadata": {},
   "source": [
    "# Unit Tests for Double Sphere Problem"
   ]
  },
  {
   "cell_type": "code",
   "execution_count": null,
   "id": "a751246e",
   "metadata": {},
   "outputs": [],
   "source": [
    "import unittest\n",
    "import numpy as np\n",
    "from pto.problems.DoubleSphere import (\n",
    "    generator,\n",
    "    fitness,\n",
    "    sphere_1_center,\n",
    "    sphere_2_center,\n",
    ")\n",
    "\n",
    "\n",
    "class TestDoubleSphere(unittest.TestCase):\n",
    "    global sphere_1_center, sphere_2_center\n",
    "\n",
    "    def test_generator(self):\n",
    "        \"\"\"\n",
    "        Test the generator to ensure it produces valid real valued vectors\n",
    "        \"\"\"\n",
    "        size = 5\n",
    "        lower_bound = -10\n",
    "        upper_bound = 10\n",
    "        solution = generator(size, lower_bound, upper_bound)\n",
    "\n",
    "        # Assert generator produces vectors of the correct length\n",
    "        self.assertEqual(len(solution), size)\n",
    "        # Assert vector only contains values between lower_bound and upper_bound inclusive\n",
    "        self.assertTrue(\n",
    "            all(lower_bound <= x <= upper_bound for x in solution),\n",
    "            \"Generated solution values are out of bounds.\",\n",
    "        )\n",
    "\n",
    "    def test_fitness1(self):\n",
    "        \"\"\"\n",
    "        Test the fitness function to ensure it correctly calculates distance to two sphere centers.\n",
    "        \"\"\"\n",
    "        sphere_1_center = [-5.0, -5.0]\n",
    "        sphere_2_center = [5.0, 5.0]\n",
    "        solution = np.array([-5.0, -5.0])\n",
    "        expected_distance_1 = 0\n",
    "        expected_distance_2 = np.sqrt(200)\n",
    "\n",
    "        result = fitness(solution, sphere_1_center, sphere_2_center)\n",
    "\n",
    "        # Assert the calculated values match expected results\n",
    "        self.assertAlmostEqual(\n",
    "            result[0],\n",
    "            expected_distance_1,\n",
    "            places=6,\n",
    "            msg=\"Distance to sphere_1_center is incorrect.\",\n",
    "        )\n",
    "        self.assertAlmostEqual(\n",
    "            result[1],\n",
    "            expected_distance_2,\n",
    "            places=6,\n",
    "            msg=\"Distance to sphere_2_center is incorrect.\",\n",
    "        )\n",
    "\n",
    "    def test_fitness2(self):\n",
    "        \"\"\"\n",
    "        Test the fitness function to ensure it correctly calculates distance to two sphere centers.\n",
    "        \"\"\"\n",
    "        sphere_1_center = [7.0, -5.0]\n",
    "        sphere_2_center = [5.0, 3.0]\n",
    "        solution = np.array([-5.0, -5.0])\n",
    "        expected_distance_1 = 12\n",
    "        expected_distance_2 = np.sqrt(164)\n",
    "\n",
    "        result = fitness(solution, sphere_1_center, sphere_2_center)\n",
    "\n",
    "        # Assert the calculated values match expected results\n",
    "        self.assertAlmostEqual(\n",
    "            result[0],\n",
    "            expected_distance_1,\n",
    "            places=6,\n",
    "            msg=\"Distance to sphere_1_center is incorrect.\",\n",
    "        )\n",
    "        self.assertAlmostEqual(\n",
    "            result[1],\n",
    "            expected_distance_2,\n",
    "            places=6,\n",
    "            msg=\"Distance to sphere_2_center is incorrect.\",\n",
    "        )\n",
    "\n",
    "# Run tests\n",
    "if __name__ == '__main__':\n",
    "    unittest.main(argv=[''], exit=False)"
   ]
  },
  {
   "cell_type": "code",
   "execution_count": null,
   "id": "66bc1feb",
   "metadata": {},
   "outputs": [],
   "source": [
    "# Tests for Double Sphere with autonames"
   ]
  },
  {
   "cell_type": "code",
   "execution_count": null,
   "id": "8e4f477a",
   "metadata": {},
   "outputs": [],
   "source": [
    "from pto import run\n",
    "from pto.problems.DoubleSphere import generator, fitness, size, better"
   ]
  },
  {
   "cell_type": "code",
   "execution_count": null,
   "id": "5b176d70",
   "metadata": {},
   "outputs": [],
   "source": [
    "sol = generator(size,)\n",
    "sol"
   ]
  },
  {
   "cell_type": "code",
   "execution_count": null,
   "id": "939244b0",
   "metadata": {},
   "outputs": [],
   "source": [
    "fitness(sol, sphere_1_center, sphere_2_center)"
   ]
  },
  {
   "cell_type": "code",
   "execution_count": null,
   "id": "16217233",
   "metadata": {},
   "outputs": [],
   "source": [
    "pareto_front, population = run(generator, fitness, gen_args=(size,), fit_args=(sphere_1_center, sphere_2_center), Solver=\"NSGAII\", better=better)"
   ]
  },
  {
   "cell_type": "code",
   "execution_count": null,
   "id": "8a862534",
   "metadata": {},
   "outputs": [],
   "source": [
    "print(f\"Pareto front size: {len(pareto_front)}\\n\")\n",
    "print(f\"Pareto front solutions (phenotype): {pareto_front}\\n\")\n",
    "\n",
    "pareto_front_fitnesses = []\n",
    "for i in range(len(pareto_front)):\n",
    "    pareto_front_fitnesses.append(\n",
    "        fitness(pareto_front[i], sphere_1_center, sphere_2_center)\n",
    "    )\n",
    "\n",
    "print(f\"Pareto front fitnesses: {pareto_front_fitnesses}\")"
   ]
  }
 ],
 "metadata": {
  "kernelspec": {
   "display_name": "Python 3",
   "language": "python",
   "name": "python3"
  },
  "language_info": {
   "codemirror_mode": {
    "name": "ipython",
    "version": 3
   },
   "file_extension": ".py",
   "mimetype": "text/x-python",
   "name": "python",
   "nbconvert_exporter": "python",
   "pygments_lexer": "ipython3",
   "version": "3.9.12"
  }
 },
 "nbformat": 4,
 "nbformat_minor": 5
}
