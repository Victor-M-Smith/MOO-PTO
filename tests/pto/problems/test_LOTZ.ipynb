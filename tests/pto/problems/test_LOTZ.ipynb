{
 "cells": [
  {
   "cell_type": "markdown",
   "id": "c89b6d3c",
   "metadata": {},
   "source": [
    "# Unit Tests for Leading Ones and Trailing Zeros (LOTZ) Problem"
   ]
  },
  {
   "cell_type": "code",
   "execution_count": null,
   "id": "b9abc754",
   "metadata": {},
   "outputs": [],
   "source": [
    "import unittest\n",
    "from pto.problems.LOTZ import (\n",
    "    generator,\n",
    "    fitness,\n",
    ")\n",
    "\n",
    "class TestLOTZ(unittest.TestCase):\n",
    "    def test_generator(self):\n",
    "        \"\"\"\n",
    "        Test the generator to ensure it produces valid binary vectors\n",
    "        \"\"\"\n",
    "        size = 2\n",
    "        solution = generator(size)\n",
    "\n",
    "        # Assert generator produces vectors of the correct length\n",
    "        self.assertEqual(len(solution), size)\n",
    "        # Assert vector only contains 0s and 1s\n",
    "        self.assertTrue(all(bit in [0, 1] for bit in solution))\n",
    "\n",
    "    def test_fitness1(self):\n",
    "        \"\"\"\n",
    "        Test the fitness function to ensure it correctly calculates objectives.\n",
    "        \"\"\"\n",
    "        # Assert the calculated values match expected results\n",
    "        self.assertEqual(fitness([1, 1]), (2, 0))\n",
    "        self.assertEqual(fitness([0, 0]), (0, 2))\n",
    "        self.assertEqual(fitness([1, 0]), (1, 1))\n",
    "\n",
    "    def test_fitness2(self):\n",
    "        \"\"\"\n",
    "        Test the fitness function to ensure it correctly calculates objectives.\n",
    "        \"\"\"\n",
    "        # Assert the calculated values match expected results\n",
    "        self.assertEqual(fitness([1, 1, 1]), (3, 0))\n",
    "        self.assertEqual(fitness([0, 0, 1]), (0, 0))\n",
    "        self.assertEqual(fitness([1, 0, 0]), (1, 2))\n",
    "        self.assertEqual(fitness([0, 0, 0]), (0, 3))\n",
    "\n",
    "# Run tests\n",
    "if __name__ == '__main__':\n",
    "    unittest.main(argv=[''], exit=False)"
   ]
  },
  {
   "cell_type": "markdown",
   "id": "6382488a",
   "metadata": {},
   "source": [
    "# Tests for LOTZ with autonames"
   ]
  },
  {
   "cell_type": "code",
   "execution_count": null,
   "id": "c5e5c8d8",
   "metadata": {},
   "outputs": [],
   "source": [
    "from pto import run\n",
    "from pto.problems.LOTZ import generator, fitness, size, better"
   ]
  },
  {
   "cell_type": "code",
   "execution_count": null,
   "id": "6e5ce625",
   "metadata": {},
   "outputs": [],
   "source": [
    "sol = generator(size)\n",
    "sol"
   ]
  },
  {
   "cell_type": "code",
   "execution_count": null,
   "id": "eb4338e6",
   "metadata": {},
   "outputs": [],
   "source": [
    "fitness(sol)"
   ]
  },
  {
   "cell_type": "code",
   "execution_count": null,
   "id": "ee8ca299",
   "metadata": {},
   "outputs": [],
   "source": [
    "pareto_front, population = run(generator, fitness, gen_args=(size,), Solver=\"NSGAII\", better=max)"
   ]
  },
  {
   "cell_type": "code",
   "execution_count": null,
   "id": "517a17b2",
   "metadata": {},
   "outputs": [],
   "source": [
    "print(f\"Pareto front size: {len(pareto_front)}\\n\")\n",
    "print(f\"Pareto front solutions (phenotype): {pareto_front}\\n\")\n",
    "\n",
    "pareto_front_fitnesses = []\n",
    "for i in range(len(pareto_front)):\n",
    "    pareto_front_fitnesses.append(\n",
    "        fitness(pareto_front[i])\n",
    "    )\n",
    "\n",
    "print(f\"Pareto front fitnesses: {pareto_front_fitnesses}\")"
   ]
  }
 ],
 "metadata": {
  "kernelspec": {
   "display_name": "Python 3",
   "language": "python",
   "name": "python3"
  },
  "language_info": {
   "codemirror_mode": {
    "name": "ipython",
    "version": 3
   },
   "file_extension": ".py",
   "mimetype": "text/x-python",
   "name": "python",
   "nbconvert_exporter": "python",
   "pygments_lexer": "ipython3",
   "version": "3.9.12"
  }
 },
 "nbformat": 4,
 "nbformat_minor": 5
}
