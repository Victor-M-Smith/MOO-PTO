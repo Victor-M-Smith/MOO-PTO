{
 "cells": [
  {
   "cell_type": "markdown",
   "id": "9f8c4152",
   "metadata": {},
   "source": [
    "# Unit Tests for Multi-Objective Traveling Salesman Problem (MOTSP)"
   ]
  },
  {
   "cell_type": "code",
   "execution_count": null,
   "id": "8488a428",
   "metadata": {},
   "outputs": [],
   "source": [
    "import unittest\n",
    "from pto.problems.MOTSP import (\n",
    "    generator,\n",
    "    fitness,\n",
    "    generate_problem_data\n",
    ")\n",
    "\n",
    "class TestMOTSP(unittest.TestCase):\n",
    "    def setUp(self):\n",
    "        \"\"\"\n",
    "        Set up test data before running each test.\n",
    "        \"\"\"\n",
    "        self.size = 3\n",
    "        self.distance_matrix, self.time_matrix = generate_problem_data(self.size, 0)\n",
    "\n",
    "    def test_generator(self):\n",
    "        \"\"\"\n",
    "        Test the solution generator to ensure it produces valid permutation of cities.\n",
    "        \"\"\"\n",
    "        tour = generator(self.size)\n",
    "\n",
    "        # Check that the tour length is correct\n",
    "        self.assertEqual(len(tour), self.size)\n",
    "        # Check that the tour contains all unique cities\n",
    "        self.assertEqual(set(tour), set(range(self.size)))\n",
    "        # Check that all cities are within the valid range [0, size-1]\n",
    "        for city in tour:\n",
    "            self.assertGreaterEqual(city, 0)\n",
    "            self.assertLess(city, self.size)\n",
    "\n",
    "    def test_fitness1(self):\n",
    "        \"\"\"\n",
    "        Test the fitness function to ensure it correctly calculates total distance and time.\n",
    "        \"\"\"\n",
    "        tour = [0, 1, 2]  # A fixed tour for testing\n",
    "\n",
    "        expected_distance = (\n",
    "            self.distance_matrix[0][1]\n",
    "            + self.distance_matrix[1][2]\n",
    "            + self.distance_matrix[2][0]\n",
    "        )\n",
    "        expected_time = (\n",
    "            self.time_matrix[0][1] + self.time_matrix[1][2] + self.time_matrix[2][0]\n",
    "        )\n",
    "\n",
    "        distance, time = fitness(\n",
    "            tour, self.size, self.distance_matrix, self.time_matrix\n",
    "        )\n",
    "\n",
    "        # Assert the calculated values match expected results\n",
    "        self.assertAlmostEqual(distance, expected_distance, places=6)\n",
    "        self.assertAlmostEqual(time, expected_time, places=6)\n",
    "\n",
    "    def test_fitness2(self):\n",
    "        \"\"\"\n",
    "        Test the fitness function to ensure it correctly calculates total distance and time.\n",
    "        \"\"\"\n",
    "        tour = [2, 0, 1]  # A fixed tour for testing\n",
    "\n",
    "        expected_distance = (\n",
    "            self.distance_matrix[0][2]\n",
    "            + self.distance_matrix[2][0]\n",
    "            + self.distance_matrix[0][1]\n",
    "        )\n",
    "        expected_time = (\n",
    "            self.time_matrix[0][2] + self.time_matrix[2][0] + self.time_matrix[0][1]\n",
    "        )\n",
    "\n",
    "        distance, time = fitness(\n",
    "            tour, self.size, self.distance_matrix, self.time_matrix\n",
    "        )\n",
    "\n",
    "        # Assert the calculated values match expected results\n",
    "        self.assertAlmostEqual(distance, expected_distance, places=6)\n",
    "        self.assertAlmostEqual(time, expected_time, places=6)\n",
    "\n",
    "    def test_fitness_random_tour(self):\n",
    "        \"\"\"\n",
    "        Test the fitness function with a randomly generated tour.\n",
    "        \"\"\"\n",
    "        tour = generator(self.size)\n",
    "        distance, time = fitness(\n",
    "            tour, self.size, self.distance_matrix, self.time_matrix\n",
    "        )\n",
    "\n",
    "        # Check that distance and time are non-negative\n",
    "        self.assertGreaterEqual(distance, 0)\n",
    "        self.assertGreaterEqual(time, 0)\n",
    "\n",
    "# Run tests\n",
    "if __name__ == '__main__':\n",
    "    unittest.main(argv=[''], exit=False)"
   ]
  },
  {
   "cell_type": "markdown",
   "id": "a1d098b5",
   "metadata": {},
   "source": [
    "# Tests for Multi-Objective Traveling Salesman Problem (MOTSP) with autonames"
   ]
  },
  {
   "cell_type": "code",
   "execution_count": null,
   "id": "615dce83",
   "metadata": {},
   "outputs": [],
   "source": [
    "from pto import run\n",
    "from pto.problems.MOTSP import generator, fitness, size, better"
   ]
  },
  {
   "cell_type": "code",
   "execution_count": null,
   "id": "5cc587a8",
   "metadata": {},
   "outputs": [],
   "source": [
    "sol = generator(size)\n",
    "sol"
   ]
  },
  {
   "cell_type": "code",
   "execution_count": null,
   "id": "fd9cad83",
   "metadata": {},
   "outputs": [],
   "source": [
    "import random\n",
    "\n",
    "def make_problem_data(size, random_state=None):\n",
    "    if random_state is not None:\n",
    "        random.seed(random_state)\n",
    "    distance_matrix = [\n",
    "        [round(random.random(), 4) for _ in range(size)] for _ in range(size)\n",
    "    ]\n",
    "    time_matrix = [\n",
    "        [round(random.random(), 4) for _ in range(size)] for _ in range(size)\n",
    "    ]\n",
    "\n",
    "    if random_state is not None:\n",
    "        random.seed(None)\n",
    "\n",
    "    return distance_matrix, time_matrix\n",
    "\n",
    "distance_matrix, time_matrix = make_problem_data(size, 0)"
   ]
  },
  {
   "cell_type": "code",
   "execution_count": null,
   "id": "657a8223",
   "metadata": {},
   "outputs": [],
   "source": [
    "fitness(sol, size, distance_matrix, time_matrix)"
   ]
  },
  {
   "cell_type": "code",
   "execution_count": null,
   "id": "9c5ef161",
   "metadata": {},
   "outputs": [],
   "source": [
    "dist_matrix, time_matrix = make_problem_data(size, 0)\n",
    "pareto_front, population  = run(generator, fitness, gen_args=(size,),\n",
    "        fit_args=(size, distance_matrix, time_matrix), Solver=\"NSGAII\")"
   ]
  },
  {
   "cell_type": "code",
   "execution_count": null,
   "id": "7a509c18",
   "metadata": {},
   "outputs": [],
   "source": [
    "print(f\"Pareto front size: {len(pareto_front)}\\n\")\n",
    "print(f\"Pareto front solutions (phenotype): {pareto_front}\\n\")\n",
    "\n",
    "pareto_front_fitnesses = []\n",
    "for i in range(len(pareto_front)):\n",
    "    pareto_front_fitnesses.append(\n",
    "        fitness(pareto_front[i], size, distance_matrix, time_matrix)\n",
    "    )\n",
    "\n",
    "print(f\"Pareto front fitnesses: {pareto_front_fitnesses}\")"
   ]
  }
 ],
 "metadata": {
  "kernelspec": {
   "display_name": "Python 3",
   "language": "python",
   "name": "python3"
  },
  "language_info": {
   "codemirror_mode": {
    "name": "ipython",
    "version": 3
   },
   "file_extension": ".py",
   "mimetype": "text/x-python",
   "name": "python",
   "nbconvert_exporter": "python",
   "pygments_lexer": "ipython3",
   "version": "3.9.12"
  }
 },
 "nbformat": 4,
 "nbformat_minor": 5
}
