{
 "cells": [
  {
   "cell_type": "markdown",
   "id": "9f8c4152",
   "metadata": {},
   "source": [
    "# Unit Tests for Multi-Objective Traveling Salesman Problem (MOTSP)"
   ]
  },
  {
   "cell_type": "code",
   "execution_count": 22,
   "id": "8488a428",
   "metadata": {},
   "outputs": [
    {
     "name": "stderr",
     "output_type": "stream",
     "text": [
      "....\n",
      "----------------------------------------------------------------------\n",
      "Ran 4 tests in 0.005s\n",
      "\n",
      "OK\n"
     ]
    }
   ],
   "source": [
    "import unittest\n",
    "from pto.problems.MOTSP import (\n",
    "    generator,\n",
    "    fitness,\n",
    "    generate_problem_data\n",
    ")\n",
    "\n",
    "class TestMOTSP(unittest.TestCase):\n",
    "    def setUp(self):\n",
    "        \"\"\"\n",
    "        Set up test data before running each test.\n",
    "        \"\"\"\n",
    "        self.size = 3\n",
    "        self.distance_matrix, self.time_matrix = generate_problem_data(self.size, 0)\n",
    "\n",
    "    def test_generator(self):\n",
    "        \"\"\"\n",
    "        Test the solution generator to ensure it produces valid permutation of cities.\n",
    "        \"\"\"\n",
    "        tour = generator(self.size)\n",
    "\n",
    "        # Check that the tour length is correct\n",
    "        self.assertEqual(len(tour), self.size)\n",
    "        # Check that the tour contains all unique cities\n",
    "        self.assertEqual(set(tour), set(range(self.size)))\n",
    "        # Check that all cities are within the valid range [0, size-1]\n",
    "        for city in tour:\n",
    "            self.assertGreaterEqual(city, 0)\n",
    "            self.assertLess(city, self.size)\n",
    "\n",
    "    def test_fitness1(self):\n",
    "        \"\"\"\n",
    "        Test the fitness function to ensure it correctly calculates total distance and time.\n",
    "        \"\"\"\n",
    "        tour = [0, 1, 2]  # A fixed tour for testing\n",
    "\n",
    "        expected_distance = (\n",
    "            self.distance_matrix[0][1]\n",
    "            + self.distance_matrix[1][2]\n",
    "            + self.distance_matrix[2][0]\n",
    "        )\n",
    "        expected_time = (\n",
    "            self.time_matrix[0][1] + self.time_matrix[1][2] + self.time_matrix[2][0]\n",
    "        )\n",
    "\n",
    "        distance, time = fitness(\n",
    "            tour, self.size, self.distance_matrix, self.time_matrix\n",
    "        )\n",
    "\n",
    "        # Assert the calculated values match expected results\n",
    "        self.assertAlmostEqual(distance, expected_distance, places=6)\n",
    "        self.assertAlmostEqual(time, expected_time, places=6)\n",
    "\n",
    "    def test_fitness2(self):\n",
    "        \"\"\"\n",
    "        Test the fitness function to ensure it correctly calculates total distance and time.\n",
    "        \"\"\"\n",
    "        tour = [0, 2, 1]  # A fixed tour for testing\n",
    "\n",
    "        expected_distance = (\n",
    "            self.distance_matrix[0][2]\n",
    "            + self.distance_matrix[2][1]\n",
    "            + self.distance_matrix[1][0]\n",
    "        )\n",
    "        expected_time = (\n",
    "            self.time_matrix[0][2] + self.time_matrix[2][1] + self.time_matrix[1][0]\n",
    "        )\n",
    "\n",
    "        distance, time = fitness(\n",
    "            tour, self.size, self.distance_matrix, self.time_matrix\n",
    "        )\n",
    "\n",
    "        # Assert the calculated values match expected results\n",
    "        self.assertAlmostEqual(distance, expected_distance, places=6)\n",
    "        self.assertAlmostEqual(time, expected_time, places=6)\n",
    "\n",
    "    def test_fitness_random_tour(self):\n",
    "        \"\"\"\n",
    "        Test the fitness function with a randomly generated tour.\n",
    "        \"\"\"\n",
    "        tour = generator(self.size)\n",
    "        distance, time = fitness(\n",
    "            tour, self.size, self.distance_matrix, self.time_matrix\n",
    "        )\n",
    "\n",
    "        # Check that distance and time are non-negative\n",
    "        self.assertGreaterEqual(distance, 0)\n",
    "        self.assertGreaterEqual(time, 0)\n",
    "\n",
    "# Run tests\n",
    "if __name__ == '__main__':\n",
    "    unittest.main(argv=[''], exit=False)"
   ]
  },
  {
   "cell_type": "markdown",
   "id": "a1d098b5",
   "metadata": {},
   "source": [
    "# Tests for Multi-Objective Traveling Salesman Problem (MOTSP) with autonames"
   ]
  },
  {
   "cell_type": "code",
   "execution_count": 9,
   "id": "615dce83",
   "metadata": {},
   "outputs": [],
   "source": [
    "from pto import run\n",
    "from pto.problems.MOTSP import generator, fitness, size, better"
   ]
  },
  {
   "cell_type": "code",
   "execution_count": 10,
   "id": "5cc587a8",
   "metadata": {},
   "outputs": [
    {
     "data": {
      "text/plain": [
       "[23,\n",
       " 24,\n",
       " 13,\n",
       " 19,\n",
       " 29,\n",
       " 18,\n",
       " 21,\n",
       " 28,\n",
       " 27,\n",
       " 22,\n",
       " 0,\n",
       " 25,\n",
       " 9,\n",
       " 1,\n",
       " 10,\n",
       " 4,\n",
       " 3,\n",
       " 6,\n",
       " 17,\n",
       " 11,\n",
       " 20,\n",
       " 14,\n",
       " 8,\n",
       " 12,\n",
       " 26,\n",
       " 15,\n",
       " 5,\n",
       " 16,\n",
       " 2,\n",
       " 7]"
      ]
     },
     "execution_count": 10,
     "metadata": {},
     "output_type": "execute_result"
    }
   ],
   "source": [
    "sol = generator(size)\n",
    "sol"
   ]
  },
  {
   "cell_type": "code",
   "execution_count": 11,
   "id": "fd9cad83",
   "metadata": {},
   "outputs": [],
   "source": [
    "import random\n",
    "\n",
    "def make_problem_data(size, random_state=None):\n",
    "    if random_state is not None:\n",
    "        random.seed(random_state)\n",
    "    distance_matrix = [\n",
    "        [round(random.random(), 4) for _ in range(size)] for _ in range(size)\n",
    "    ]\n",
    "    time_matrix = [\n",
    "        [round(random.random(), 4) for _ in range(size)] for _ in range(size)\n",
    "    ]\n",
    "\n",
    "    if random_state is not None:\n",
    "        random.seed(None)\n",
    "\n",
    "    return distance_matrix, time_matrix\n",
    "\n",
    "distance_matrix, time_matrix = make_problem_data(size, 0)"
   ]
  },
  {
   "cell_type": "code",
   "execution_count": 12,
   "id": "657a8223",
   "metadata": {},
   "outputs": [
    {
     "data": {
      "text/plain": [
       "(16.1513, 16.420099999999998)"
      ]
     },
     "execution_count": 12,
     "metadata": {},
     "output_type": "execute_result"
    }
   ],
   "source": [
    "fitness(sol, size, distance_matrix, time_matrix)"
   ]
  },
  {
   "cell_type": "code",
   "execution_count": 13,
   "id": "9c5ef161",
   "metadata": {},
   "outputs": [],
   "source": [
    "dist_matrix, time_matrix = make_problem_data(size, 0)\n",
    "pareto_front, population  = run(generator, fitness, gen_args=(size,),\n",
    "        fit_args=(size, distance_matrix, time_matrix), Solver=\"NSGAII\")"
   ]
  },
  {
   "cell_type": "code",
   "execution_count": 14,
   "id": "7a509c18",
   "metadata": {},
   "outputs": [
    {
     "name": "stdout",
     "output_type": "stream",
     "text": [
      "Pareto front size: 25\n",
      "\n",
      "Pareto front solutions (phenotype): [[21, 0, 13, 10, 29, 15, 24, 23, 27, 22, 8, 3, 11, 4, 9, 17, 1, 19, 14, 16, 12, 26, 5, 28, 6, 20, 2, 7, 18, 25], [21, 0, 13, 10, 29, 28, 24, 8, 20, 19, 14, 11, 16, 5, 4, 26, 7, 12, 27, 17, 3, 2, 18, 9, 23, 25, 22, 6, 1, 15], [21, 0, 13, 10, 29, 17, 24, 8, 20, 19, 14, 11, 16, 5, 4, 26, 7, 12, 27, 15, 3, 2, 18, 9, 23, 25, 22, 6, 1, 28], [21, 0, 13, 10, 29, 17, 24, 8, 20, 19, 14, 11, 18, 5, 4, 26, 7, 12, 27, 15, 3, 2, 16, 9, 23, 25, 22, 6, 1, 28], [21, 0, 13, 10, 29, 17, 24, 8, 20, 19, 14, 11, 18, 5, 4, 26, 7, 12, 27, 28, 3, 2, 16, 23, 25, 9, 22, 6, 1, 15], [21, 0, 13, 10, 29, 17, 24, 8, 20, 19, 14, 11, 18, 5, 4, 27, 7, 12, 26, 28, 3, 2, 16, 9, 23, 25, 22, 6, 1, 15], [21, 0, 13, 10, 29, 15, 24, 8, 20, 19, 14, 11, 18, 5, 4, 26, 7, 12, 27, 17, 3, 2, 16, 9, 23, 25, 22, 6, 1, 28], [21, 0, 13, 10, 29, 17, 24, 8, 20, 19, 7, 11, 18, 5, 4, 26, 14, 1, 27, 28, 3, 2, 16, 9, 23, 25, 22, 6, 12, 15], [21, 0, 13, 10, 29, 15, 24, 23, 20, 19, 14, 11, 18, 5, 4, 26, 7, 12, 27, 17, 3, 2, 16, 9, 8, 25, 22, 1, 28, 6], [21, 0, 13, 10, 29, 17, 24, 8, 20, 19, 14, 11, 16, 5, 4, 26, 7, 1, 3, 28, 27, 2, 18, 9, 23, 25, 22, 6, 12, 15], [21, 0, 13, 10, 29, 17, 24, 8, 20, 19, 14, 11, 18, 5, 4, 26, 7, 12, 27, 28, 3, 2, 16, 9, 23, 25, 22, 6, 1, 15], [21, 0, 13, 10, 29, 17, 24, 8, 20, 19, 14, 11, 16, 5, 4, 26, 7, 1, 12, 28, 3, 2, 18, 9, 23, 25, 22, 6, 27, 15], [21, 0, 13, 10, 29, 15, 2, 8, 3, 16, 14, 11, 18, 5, 4, 26, 7, 12, 27, 17, 20, 24, 9, 28, 6, 23, 22, 1, 19, 25], [21, 0, 13, 10, 29, 17, 24, 8, 20, 19, 14, 11, 18, 5, 4, 26, 7, 12, 27, 15, 3, 2, 16, 9, 23, 28, 22, 6, 1, 25], [21, 0, 13, 10, 29, 28, 24, 8, 20, 19, 14, 11, 18, 5, 4, 26, 7, 12, 27, 17, 3, 2, 16, 9, 23, 25, 22, 6, 1, 15], [21, 0, 13, 10, 29, 17, 24, 8, 20, 19, 7, 11, 18, 5, 4, 26, 14, 1, 3, 28, 27, 2, 16, 9, 23, 25, 22, 6, 12, 15], [21, 0, 13, 10, 29, 17, 24, 8, 20, 19, 14, 11, 18, 5, 4, 26, 7, 1, 3, 28, 27, 2, 16, 9, 23, 25, 22, 6, 12, 15], [21, 0, 13, 10, 29, 17, 24, 8, 20, 19, 7, 11, 16, 5, 4, 26, 14, 1, 27, 28, 3, 2, 18, 9, 23, 25, 22, 6, 12, 15], [21, 0, 13, 10, 29, 28, 1, 8, 20, 19, 14, 11, 18, 5, 4, 26, 7, 12, 27, 17, 3, 2, 16, 9, 23, 25, 22, 6, 24, 15], [21, 0, 13, 10, 29, 15, 24, 23, 27, 3, 8, 22, 11, 4, 9, 17, 1, 19, 14, 16, 12, 26, 5, 28, 6, 20, 2, 7, 18, 25], [21, 0, 13, 10, 29, 15, 2, 8, 20, 16, 14, 11, 18, 5, 4, 26, 7, 12, 27, 17, 3, 24, 9, 28, 6, 23, 22, 1, 19, 25], [21, 0, 13, 10, 29, 15, 1, 8, 20, 19, 14, 11, 18, 5, 4, 26, 7, 12, 27, 17, 3, 2, 16, 9, 23, 25, 22, 6, 24, 28], [21, 0, 13, 10, 29, 17, 24, 8, 20, 19, 14, 11, 16, 5, 4, 26, 7, 12, 27, 28, 3, 2, 18, 9, 23, 25, 22, 6, 1, 15], [21, 0, 13, 10, 29, 17, 24, 8, 20, 19, 14, 11, 16, 5, 4, 26, 7, 1, 3, 28, 12, 2, 18, 9, 23, 25, 22, 6, 27, 15], [21, 0, 13, 10, 29, 15, 24, 8, 20, 16, 14, 11, 18, 5, 4, 26, 7, 12, 27, 17, 3, 2, 9, 28, 6, 23, 22, 1, 19, 25]]\n",
      "\n",
      "Pareto front fitnesses: [(16.827399999999994, 23.9271), (21.872099999999996, 20.6132), (22.391000000000002, 20.0643), (21.4, 21.445099999999996), (21.805500000000002, 20.6725), (21.907299999999996, 20.517), (20.2426, 22.726399999999995), (23.183000000000003, 18.806299999999997), (18.2028, 23.601), (23.1583, 18.962), (21.721199999999996, 21.2988), (23.739700000000003, 18.717000000000002), (19.9333, 23.105900000000002), (20.996799999999997, 21.5226), (20.881099999999996, 21.994), (23.115000000000002, 19.252299999999995), (22.167299999999997, 20.342799999999997), (24.174000000000003, 17.4255), (20.699999999999996, 22.154600000000002), (16.447199999999995, 24.0294), (19.5725, 23.482000000000003), (20.3868, 22.5808), (22.7122, 19.918), (23.247300000000003, 18.7319), (18.6961, 23.5496)]\n"
     ]
    }
   ],
   "source": [
    "print(f\"Pareto front size: {len(pareto_front)}\\n\")\n",
    "print(f\"Pareto front solutions (phenotype): {pareto_front}\\n\")\n",
    "\n",
    "pareto_front_fitnesses = []\n",
    "for i in range(len(pareto_front)):\n",
    "    pareto_front_fitnesses.append(\n",
    "        fitness(pareto_front[i], size, distance_matrix, time_matrix)\n",
    "    )\n",
    "\n",
    "print(f\"Pareto front fitnesses: {pareto_front_fitnesses}\")"
   ]
  }
 ],
 "metadata": {
  "kernelspec": {
   "display_name": "Python 3",
   "language": "python",
   "name": "python3"
  },
  "language_info": {
   "codemirror_mode": {
    "name": "ipython",
    "version": 3
   },
   "file_extension": ".py",
   "mimetype": "text/x-python",
   "name": "python",
   "nbconvert_exporter": "python",
   "pygments_lexer": "ipython3",
   "version": "3.9.12"
  }
 },
 "nbformat": 4,
 "nbformat_minor": 5
}
